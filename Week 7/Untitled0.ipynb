{
 "metadata": {
  "name": "Untitled0"
 },
 "nbformat": 3,
 "nbformat_minor": 0,
 "worksheets": [
  {
   "cells": [
    {
     "cell_type": "code",
     "collapsed": false,
     "input": [
      "from pylab import *\n",
      "\n",
      "filename=open('data.txt','r')\n",
      "lines=filename.readlines()\n",
      "filename.close()\n",
      "\n",
      "for i in range(len(lines)):\n",
      "    lines[i]=lines[i].split('\\t')\n",
      "    \n",
      "x=[]\n",
      "y=[]\n",
      "\n",
      "for i in range(len(lines)):\n",
      "    x.append(lines[i][4])\n",
      "    y.append(lines[i][3])\n",
      "    \n",
      "    \n",
      "plot(x,y,'ro-')\n",
      "xlabel('Acceleration Voltage $V_{acc}$')\n",
      "ylabel('Current $I$')\n",
      "show()"
     ],
     "language": "python",
     "metadata": {},
     "outputs": [],
     "prompt_number": 3
    },
    {
     "cell_type": "code",
     "collapsed": false,
     "input": [],
     "language": "python",
     "metadata": {},
     "outputs": [],
     "prompt_number": 7
    },
    {
     "cell_type": "code",
     "collapsed": false,
     "input": [],
     "language": "python",
     "metadata": {},
     "outputs": []
    }
   ],
   "metadata": {}
  }
 ]
}