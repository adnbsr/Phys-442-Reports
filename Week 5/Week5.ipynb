{
 "metadata": {
  "name": "Week5"
 },
 "nbformat": 3,
 "nbformat_minor": 0,
 "worksheets": [
  {
   "cells": [
    {
     "cell_type": "code",
     "collapsed": false,
     "input": [
      "from pylab import *\n",
      "import scipy.stats\n",
      "import matplotlib.mlab as mlab\n",
      "import math\n",
      "\n",
      "def week5(data_arange,data):\n",
      "    mu=mean(data)\n",
      "    sigma=std(data)\n",
      "\n",
      "    a=hist(data,data_arange,normed=True,color='steelblue',align=\"mid\")\n",
      "\n",
      "    x=a[1][0:len(a[1])-1]\n",
      "    fact=[]\n",
      "    for i in range(len(x)):\n",
      "        fact.append(math.factorial(x[i]))\n",
      "        \n",
      "    fact=array(fact)\n",
      "        \n",
      "    p=(mu**x)*(e**(-mu))/fact\n",
      "    y=e**(-((x)-mu)**2/(2*(sigma)**2))/(sigma*sqrt(2*pi))\n",
      "    plot(x,p,'blue',linewidth=2.00,label='Poisson')\n",
      "    plot(x,y,'red',linewidth=2.00,label='Gaussian')\n",
      "    xlabel('# of counts')\n",
      "    ylabel('Probability')\n",
      "    legend(loc=2)\n",
      "    \n",
      "    show()\n",
      "\n",
      "    print 'mu :'+ str(mu)\n",
      "    print 'sigma :' + str(sigma)\n",
      "    print 'chi 2 for gauss:' + str(scipy.stats.chisquare(a[0],y)[0]) \n",
      "    print 'chi 2 for gauss/dof:' + str(scipy.stats.chisquare(a[0],y)[0]/(len(x)-2)) \n",
      "    print 'chi 2 for poisson:' + str(scipy.stats.chisquare(a[0],p)[0]) \n",
      "    print 'chi 2 for poisson/dof:' + str(scipy.stats.chisquare(a[0],p)[0]/(len(x)-1)) \n",
      "    \n",
      "\n",
      "ten_far=[23,22,17,21,27,36,26,16,20,18,19,24,34,21,22,28,27,24,25,19,34,24,21,31,19,21,24,23,27,30,24,19,19,28,25,30,24,25,23,22,27,28,24,34,22,25,33,20,23,23,20,30,30,19,25,27,29,17,28,20,19,10,30,21,16,21,28,19,15,19,29,15,23,24,24,34,21,30,17,18,26,18,22,29,26,25,20,18,30,20,17,23,25,29,19,21,27,15,23,26]\n",
      "\n",
      "one_far=[1,1,0,4,2,3,1,1,5,2,2,3,2,2,2,4,2,3,1,3,2,3,0,3,2,2,1,2,3,1,3,4,1,5,3,4,2,4,5,8,3,5,0,2,1,0,3,4,3,3,1,1,5,1,0,2,3,3,1,2,0,2,1,2,2,2,3,2,0,2,1,1,5,1,6,2,4,5,3,1,1,1,1,2,5,1,11,2,1,4,1,4,4,2,2,2,2,2,3,2]\n",
      "\n",
      "one_close=[7,13,12,8,6,9,5,13,12,8,14,6,13,10,11,12,6,11,16,7,14,11,13,6,9,11,16,12,11,7,12,6,6,12,8,16,10,10,13,8,14,9,13,11,10,13,11,11,9,12,8,9,14,6,11,16,5,7,9,16,11,9,16,6,9,15,13,8,11,9,9,13,13,5,9,10,9,8,9,8,9,12,10,10,13,10,11,10,11,11,11,13,10,5,6,8,10,8,7,9]\n",
      "\n",
      "ten_close=[93,103,99,127,100,108,109,88,99,102,101,103,109,100,117,95,94,128,101,99,99,99,112,90,104,106,104,94,110,100,100,112,99,83,120,107,108,95,88,82,95,108,94,102,99,100,103,114,98,108,104,102,95,99,103,109,98,97,112,112,121,119,130,115,116,115,106,107,81,104,102,113,84,95,111,108,86,116,85,122,104,95,115,100,93,93,115,90,97,119,108,113,114,98,104,111,113,107,111,93]\n",
      "\n",
      "output=[10,13,6,1,1,4,4,5,21,12,7,15,29,4,22,10,9,1,27,18,5,3,11,9,1,30,15,10,15,5,5,7,7,12,10,7,8,1,5,16,16,3,6,4,19,14,6,6,14,16,11,16,7,13,10,12,3,6,5,10,25,5,9,1,2,7,10,10,14,16,6,7,1,10,18,11,13,8,10,13,2,12,8,2,2,15,2,27,5,8]\n",
      "\n",
      "output1=[]\n",
      "for i in range(len(output)-1):\n",
      "    output1.append(output[i]+output[i+1])\n",
      "\n",
      "\n",
      "ten_close=array(ten_close)\n",
      "ten_far=array(ten_far)\n",
      "one_far=array(one_far)\n",
      "one_close=array(one_close)\n",
      "\n",
      "tenclose=arange(72,142,5)\n",
      "tenfar=arange(8,40,1)\n",
      "oneclose=arange(0,25,1)\n",
      "onefar=arange(0,25,1)\n",
      "\n",
      "\n",
      "\n",
      "week5(tenclose,ten_close)\n",
      "print '----------'\n",
      "week5(tenfar,ten_far)\n",
      "print '----------'\n",
      "week5(oneclose,one_close)\n",
      "print '----------'\n",
      "week5(onefar,one_far)\n",
      "print '----------'\n",
      "\n",
      "\n"
     ],
     "language": "python",
     "metadata": {},
     "outputs": [
      {
       "output_type": "stream",
       "stream": "stdout",
       "text": [
        "mu :103.68\n",
        "sigma :10.1841838161\n",
        "chi 2 for gauss:0.0281746025109\n",
        "chi 2 for gauss/dof:-1.99783272288\n",
        "chi 2 for poisson:0.0281770981032\n",
        "chi 2 for poisson/dof:-0.997832530915\n",
        "----------\n",
        "mu :23.58"
       ]
      },
      {
       "output_type": "stream",
       "stream": "stdout",
       "text": [
        "\n",
        "sigma :5.01832641425\n",
        "chi 2 for gauss:0.331458335392\n",
        "chi 2 for gauss/dof:-1.98930779563\n",
        "chi 2 for poisson:0.391363807864\n",
        "chi 2 for poisson/dof:-0.987375361037\n",
        "----------\n",
        "mu :10.18"
       ]
      },
      {
       "output_type": "stream",
       "stream": "stdout",
       "text": [
        "\n",
        "sigma :2.8297703087\n",
        "chi 2 for gauss:0.253497173715\n",
        "chi 2 for gauss/dof:-1.98943761776\n",
        "chi 2 for poisson:0.214103728689\n",
        "chi 2 for poisson/dof:-0.991079011305\n",
        "----------\n",
        "mu :2.43"
       ]
      },
      {
       "output_type": "stream",
       "stream": "stdout",
       "text": [
        "\n",
        "sigma :1.72194657292\n",
        "chi 2 for gauss:103.377349124\n",
        "chi 2 for gauss/dof:2.30738954681\n",
        "chi 2 for poisson:2.64693454822\n",
        "chi 2 for poisson/dof:-0.889711060491\n",
        "----------\n"
       ]
      }
     ],
     "prompt_number": 14
    },
    {
     "cell_type": "code",
     "collapsed": false,
     "input": [],
     "language": "python",
     "metadata": {},
     "outputs": [],
     "prompt_number": 9
    },
    {
     "cell_type": "code",
     "collapsed": false,
     "input": [],
     "language": "python",
     "metadata": {},
     "outputs": [],
     "prompt_number": 43
    },
    {
     "cell_type": "code",
     "collapsed": false,
     "input": [],
     "language": "python",
     "metadata": {},
     "outputs": [],
     "prompt_number": 43
    },
    {
     "cell_type": "code",
     "collapsed": false,
     "input": [],
     "language": "python",
     "metadata": {},
     "outputs": []
    }
   ],
   "metadata": {}
  }
 ]
}