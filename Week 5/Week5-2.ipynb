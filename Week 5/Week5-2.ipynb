{
 "metadata": {
  "name": "Week5-2"
 },
 "nbformat": 3,
 "nbformat_minor": 0,
 "worksheets": [
  {
   "cells": [
    {
     "cell_type": "code",
     "collapsed": false,
     "input": [
      "from pylab import *\n",
      "import scipy.stats\n",
      "import matplotlib.mlab as mlab\n",
      "import math\n",
      "\n",
      "def week5(n,data):\n",
      "    mu=mean(data)\n",
      "    sigma=std(data)\n",
      " \n",
      "    time=arange(0,sum(data),1)\n",
      "    \n",
      "    \n",
      "    alpha=float(len(data))/sum(data)\n",
      "    print 'alpha :'+str(alpha)\n",
      "    \n",
      "    a=hist(data,time,normed=True,color='steelblue',align=\"mid\")\n",
      "    time=a[1][0:len(a[1])-1]\n",
      "    p=((alpha*time)**n )* ((e)**(-1*alpha*time))*alpha\n",
      "    \n",
      "    plot(time,p,'r',label='$Eqn\\ 6.8$',linewidth=2.00)\n",
      "    xlabel('Time')\n",
      "    ylabel('Probability')\n",
      "    legend(loc=2)\n",
      "    \n",
      "    show()\n",
      "    \n",
      "    print 'mu :'+ str(mu)\n",
      "    print 'sigma :' + str(sigma)\n",
      "    print 'chi 2 for poisson:' + str(scipy.stats.chisquare(a[0],p)[0]) \n",
      "    print 'chi 2 for poisson/dof:' + str(scipy.stats.chisquare(a[0],p)[0]/(len(time)-1)) \n",
      "  \n",
      "    \n",
      "    \n",
      "\n",
      "\n",
      "output=[10,13,6,1,1,4,4,5,21,12,7,15,29,4,22,10,9,1,27,18,5,3,11,9,1,30,15,10,15,5,5,7,7,12,10,7,8,1,5,16,16,3,6,4,19,14,6,6,14,16,11,16,7,13,10,12,3,6,5,10,25,5,9,1,2,7,10,10,14,16,6,7,1,10,18,11,13,8,10,13,2,12,8,2,2,15,2,27,5,8]\n",
      "\n",
      "output1=[]\n",
      "for i in range(len(output)-1):\n",
      "    output1.append(output[i]+output[i+1])\n",
      "\n",
      "\n",
      "\n",
      "week5(0,output)\n",
      "print '-------------'\n",
      "week5(1,output1)\n",
      "\n",
      "\n",
      "\n"
     ],
     "language": "python",
     "metadata": {},
     "outputs": [
      {
       "output_type": "stream",
       "stream": "stdout",
       "text": [
        "alpha :0.102622576967\n",
        "mu :9.74444444444"
       ]
      },
      {
       "output_type": "stream",
       "stream": "stdout",
       "text": [
        "\n",
        "sigma :6.64255826071\n",
        "chi 2 for poisson:0.600807332357\n",
        "chi 2 for poisson/dof:0.000686636951265\n"
       ]
      }
     ],
     "prompt_number": 18
    },
    {
     "cell_type": "code",
     "collapsed": false,
     "input": [],
     "language": "python",
     "metadata": {},
     "outputs": [],
     "prompt_number": 5
    },
    {
     "cell_type": "code",
     "collapsed": false,
     "input": [],
     "language": "python",
     "metadata": {},
     "outputs": [],
     "prompt_number": 4
    },
    {
     "cell_type": "code",
     "collapsed": false,
     "input": [],
     "language": "python",
     "metadata": {},
     "outputs": []
    }
   ],
   "metadata": {}
  }
 ]
}